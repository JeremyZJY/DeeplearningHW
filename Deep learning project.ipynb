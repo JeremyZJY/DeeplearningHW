{
 "cells": [
  {
   "cell_type": "code",
   "execution_count": 34,
   "metadata": {},
   "outputs": [
    {
     "name": "stdout",
     "output_type": "stream",
     "text": [
      "Requirement already satisfied: torch in /anaconda3/lib/python3.6/site-packages (0.4.1)\n",
      "Requirement already satisfied: torchvision in /anaconda3/lib/python3.6/site-packages (0.2.1)\n",
      "Requirement already satisfied: pillow>=4.1.1 in /anaconda3/lib/python3.6/site-packages (from torchvision) (5.1.0)\n",
      "Requirement already satisfied: numpy in /anaconda3/lib/python3.6/site-packages (from torchvision) (1.14.3)\n",
      "Requirement already satisfied: six in /anaconda3/lib/python3.6/site-packages (from torchvision) (1.11.0)\n",
      "\u001b[33mYou are using pip version 18.0, however version 18.1 is available.\n",
      "You should consider upgrading via the 'pip install --upgrade pip' command.\u001b[0m\n"
     ]
    }
   ],
   "source": [
    "!pip install torch torchvision"
   ]
  },
  {
   "cell_type": "code",
   "execution_count": 35,
   "metadata": {},
   "outputs": [],
   "source": [
    "#Let's get rid of some imports\n",
    "%matplotlib inline\n",
    "import matplotlib.pyplot as plt\n",
    "import numpy as np\n",
    "#Define the model \n",
    "import torch\n",
    "import torch.nn as nn\n",
    "import torch.nn.functional as F\n",
    "import pandas as pd"
   ]
  },
  {
   "cell_type": "markdown",
   "metadata": {},
   "source": [
    "Getting Data"
   ]
  },
  {
   "cell_type": "code",
   "execution_count": 36,
   "metadata": {},
   "outputs": [],
   "source": [
    "train=pd.read_csv('input/train.csv')\n",
    "test=pd.read_csv('input/test.csv')"
   ]
  },
  {
   "cell_type": "code",
   "execution_count": 37,
   "metadata": {},
   "outputs": [
    {
     "name": "stdout",
     "output_type": "stream",
     "text": [
      "Index(['Id', 'MSSubClass', 'MSZoning', 'LotFrontage', 'LotArea', 'Street',\n",
      "       'Alley', 'LotShape', 'LandContour', 'Utilities', 'LotConfig',\n",
      "       'LandSlope', 'Neighborhood', 'Condition1', 'Condition2', 'BldgType',\n",
      "       'HouseStyle', 'OverallQual', 'OverallCond', 'YearBuilt', 'YearRemodAdd',\n",
      "       'RoofStyle', 'RoofMatl', 'Exterior1st', 'Exterior2nd', 'MasVnrType',\n",
      "       'MasVnrArea', 'ExterQual', 'ExterCond', 'Foundation', 'BsmtQual',\n",
      "       'BsmtCond', 'BsmtExposure', 'BsmtFinType1', 'BsmtFinSF1',\n",
      "       'BsmtFinType2', 'BsmtFinSF2', 'BsmtUnfSF', 'TotalBsmtSF', 'Heating',\n",
      "       'HeatingQC', 'CentralAir', 'Electrical', '1stFlrSF', '2ndFlrSF',\n",
      "       'LowQualFinSF', 'GrLivArea', 'BsmtFullBath', 'BsmtHalfBath', 'FullBath',\n",
      "       'HalfBath', 'BedroomAbvGr', 'KitchenAbvGr', 'KitchenQual',\n",
      "       'TotRmsAbvGrd', 'Functional', 'Fireplaces', 'FireplaceQu', 'GarageType',\n",
      "       'GarageYrBlt', 'GarageFinish', 'GarageCars', 'GarageArea', 'GarageQual',\n",
      "       'GarageCond', 'PavedDrive', 'WoodDeckSF', 'OpenPorchSF',\n",
      "       'EnclosedPorch', '3SsnPorch', 'ScreenPorch', 'PoolArea', 'PoolQC',\n",
      "       'Fence', 'MiscFeature', 'MiscVal', 'MoSold', 'YrSold', 'SaleType',\n",
      "       'SaleCondition', 'SalePrice'],\n",
      "      dtype='object')\n"
     ]
    }
   ],
   "source": [
    "print(train.keys())"
   ]
  },
  {
   "cell_type": "code",
   "execution_count": 38,
   "metadata": {},
   "outputs": [
    {
     "data": {
      "text/plain": [
       "<matplotlib.axes._subplots.AxesSubplot at 0x1a250e5da0>"
      ]
     },
     "execution_count": 38,
     "metadata": {},
     "output_type": "execute_result"
    },
    {
     "data": {
      "image/png": "[encoded data removed]",
      "text/plain": [
       "<Figure size 432x288 with 1 Axes>"
      ]
     },
     "metadata": {},
     "output_type": "display_data"
    }
   ],
   "source": [
    "import seaborn as sns\n",
    "sns.distplot(train['SalePrice'])"
   ]
  },
  {
   "cell_type": "markdown",
   "metadata": {},
   "source": [
    "Preparing to Model"
   ]
  },
  {
   "cell_type": "code",
   "execution_count": 39,
   "metadata": {},
   "outputs": [
    {
     "name": "stdout",
     "output_type": "stream",
     "text": [
      "(1022, 7) (438, 7) (1022,) (438,)\n"
     ]
    }
   ],
   "source": [
    "from sklearn.model_selection  import train_test_split\n",
    "cols = ['OverallQual','GrLivArea', 'GarageCars','TotalBsmtSF', 'FullBath', 'TotRmsAbvGrd', 'YearBuilt']\n",
    "X = train[cols].values\n",
    "y = train['SalePrice'].values\n",
    "X_train, X_test, y_train, y_test = train_test_split(X, y, test_size=0.3, random_state=0)\n",
    "\n",
    "print(X_train.shape, X_test.shape, y_train.shape, y_test.shape)"
   ]
  },
  {
   "cell_type": "code",
   "execution_count": 40,
   "metadata": {},
   "outputs": [
    {
     "data": {
      "text/plain": [
       "array([[   7, 1710,    2, ...,    2,    8, 2003],\n",
       "       [   6, 1262,    2, ...,    2,    6, 1976],\n",
       "       [   7, 1786,    2, ...,    2,    6, 2001],\n",
       "       ...,\n",
       "       [   7, 2340,    1, ...,    2,    9, 1941],\n",
       "       [   5, 1078,    1, ...,    1,    5, 1950],\n",
       "       [   5, 1256,    1, ...,    1,    6, 1965]])"
      ]
     },
     "execution_count": 40,
     "metadata": {},
     "output_type": "execute_result"
    }
   ],
   "source": [
    "X"
   ]
  },
  {
   "cell_type": "code",
   "execution_count": 41,
   "metadata": {},
   "outputs": [],
   "source": [
    "#Define training hyperprameters.\n",
    "batch_size = 50\n",
    "num_epochs = 200\n",
    "learning_rate = 0.01\n",
    "size_hidden= 100\n",
    "\n",
    "#Calculate some other hyperparameters based on data.  \n",
    "batch_no = len(X_train) // batch_size  #batches\n",
    "cols=X_train.shape[1] #Number of columns in input matrix\n",
    "n_output=1"
   ]
  },
  {
   "cell_type": "code",
   "execution_count": 42,
   "metadata": {},
   "outputs": [
    {
     "name": "stdout",
     "output_type": "stream",
     "text": [
      "Executing the model on : cpu\n"
     ]
    }
   ],
   "source": [
    "#Create the model\n",
    "device = torch.device(\"cuda:0\" if torch.cuda.is_available() else \"cpu\")\n",
    "# Assume that we are on a CUDA machine, then this should print a CUDA device:\n",
    "print(\"Executing the model on :\",device)\n",
    "class Net(torch.nn.Module):\n",
    "    def __init__(self, n_feature, size_hidden, n_output):\n",
    "        super(Net, self).__init__()\n",
    "        self.hidden = torch.nn.Linear(cols, size_hidden)   # hidden layer\n",
    "        self.predict = torch.nn.Linear(size_hidden, n_output)   # output layer\n",
    "\n",
    "    def forward(self, x):\n",
    "        x = F.relu(self.hidden(x))      # activation function for hidden layer\n",
    "        x = self.predict(x)             # linear output\n",
    "        return x\n",
    "net = Net(cols, size_hidden, n_output)"
   ]
  },
  {
   "cell_type": "code",
   "execution_count": 43,
   "metadata": {},
   "outputs": [
    {
     "name": "stderr",
     "output_type": "stream",
     "text": [
      "/anaconda3/lib/python3.6/site-packages/torch/nn/functional.py:52: UserWarning: size_average and reduce args will be deprecated, please use reduction='sum' instead.\n",
      "  warnings.warn(warning.format(ret))\n"
     ]
    }
   ],
   "source": [
    "#Adam is a specific flavor of gradient decent which is typically better\n",
    "optimizer = torch.optim.Adam(net.parameters(), lr=learning_rate)\n",
    "#optimizer = torch.optim.SGD(net.parameters(), lr=0.2)\n",
    "criterion = torch.nn.MSELoss(size_average=False)  # this is for regression mean squared loss"
   ]
  },
  {
   "cell_type": "code",
   "execution_count": 66,
   "metadata": {},
   "outputs": [
    {
     "name": "stdout",
     "output_type": "stream",
     "text": [
      "Epoch 1 loss:  1219962210304.0\n",
      "Epoch 2 loss:  1223247652864.0\n",
      "Epoch 3 loss:  1203768920064.0\n",
      "Epoch 4 loss:  1199411042304.0\n",
      "Epoch 5 loss:  1201643804672.0\n",
      "Epoch 6 loss:  1179805730816.0\n",
      "Epoch 7 loss:  1202744309760.0\n",
      "Epoch 8 loss:  1202469781504.0\n",
      "Epoch 9 loss:  1186354720768.0\n",
      "Epoch 10 loss:  1167812280320.0\n",
      "Epoch 11 loss:  1263617619968.0\n",
      "Epoch 12 loss:  1192225226752.0\n",
      "Epoch 13 loss:  1195478575104.0\n",
      "Epoch 14 loss:  1182549223424.0\n",
      "Epoch 15 loss:  1057180358656.0\n",
      "Epoch 16 loss:  1034211969024.0\n",
      "Epoch 17 loss:  1183615055872.0\n",
      "Epoch 18 loss:  1207349026816.0\n",
      "Epoch 19 loss:  1221980616704.0\n",
      "Epoch 20 loss:  1159722412032.0\n",
      "Epoch 21 loss:  1203817109504.0\n",
      "Epoch 22 loss:  1198377818112.0\n",
      "Epoch 23 loss:  1165746061312.0\n",
      "Epoch 24 loss:  1216197629952.0\n",
      "Epoch 25 loss:  1250644082688.0\n",
      "Epoch 26 loss:  1233062639616.0\n",
      "Epoch 27 loss:  1230951780352.0\n",
      "Epoch 28 loss:  1170946711552.0\n",
      "Epoch 29 loss:  1187060942848.0\n",
      "Epoch 30 loss:  1211558770688.0\n",
      "Epoch 31 loss:  1201569988608.0\n",
      "Epoch 32 loss:  1181352345600.0\n",
      "Epoch 33 loss:  1180956866560.0\n",
      "Epoch 34 loss:  1184008230912.0\n",
      "Epoch 35 loss:  1180402786304.0\n",
      "Epoch 36 loss:  1199026311168.0\n",
      "Epoch 37 loss:  1185696274432.0\n",
      "Epoch 38 loss:  1184249501696.0\n",
      "Epoch 39 loss:  1290187741184.0\n",
      "Epoch 40 loss:  1143181406208.0\n",
      "Epoch 41 loss:  1177129914368.0\n",
      "Epoch 42 loss:  1176186372096.0\n",
      "Epoch 43 loss:  1185008035840.0\n",
      "Epoch 44 loss:  1167801004032.0\n",
      "Epoch 45 loss:  1127087022080.0\n",
      "Epoch 46 loss:  1168408627200.0\n",
      "Epoch 47 loss:  1170003492864.0\n",
      "Epoch 48 loss:  1077877215232.0\n",
      "Epoch 49 loss:  1219738243072.0\n",
      "Epoch 50 loss:  1145815904256.0\n",
      "Epoch 51 loss:  1273926316032.0\n",
      "Epoch 52 loss:  1292725833728.0\n",
      "Epoch 53 loss:  1249883822080.0\n",
      "Epoch 54 loss:  1185231294464.0\n",
      "Epoch 55 loss:  1199848230912.0\n",
      "Epoch 56 loss:  1209131997184.0\n",
      "Epoch 57 loss:  1213998891008.0\n",
      "Epoch 58 loss:  1129954609152.0\n",
      "Epoch 59 loss:  1234092439552.0\n",
      "Epoch 60 loss:  1232459380736.0\n",
      "Epoch 61 loss:  1162308972544.0\n",
      "Epoch 62 loss:  1173514786816.0\n",
      "Epoch 63 loss:  1198758854656.0\n",
      "Epoch 64 loss:  1214171082752.0\n",
      "Epoch 65 loss:  1155853420544.0\n",
      "Epoch 66 loss:  1233935679488.0\n",
      "Epoch 67 loss:  1139095175168.0\n",
      "Epoch 68 loss:  1204241963008.0\n",
      "Epoch 69 loss:  1168853534720.0\n",
      "Epoch 70 loss:  1178125611008.0\n",
      "Epoch 71 loss:  1193019990016.0\n",
      "Epoch 72 loss:  1146561269760.0\n",
      "Epoch 73 loss:  1210454183936.0\n",
      "Epoch 74 loss:  1058555170816.0\n",
      "Epoch 75 loss:  1184553992192.0\n",
      "Epoch 76 loss:  1188135421952.0\n",
      "Epoch 77 loss:  1163333742592.0\n",
      "Epoch 78 loss:  1176931670016.0\n",
      "Epoch 79 loss:  1164122775552.0\n",
      "Epoch 80 loss:  1180116629504.0\n",
      "Epoch 81 loss:  1194283544576.0\n",
      "Epoch 82 loss:  1165899112448.0\n",
      "Epoch 83 loss:  1199915384832.0\n",
      "Epoch 84 loss:  1147342213120.0\n",
      "Epoch 85 loss:  1229927272448.0\n",
      "Epoch 86 loss:  1187543250944.0\n",
      "Epoch 87 loss:  1169608325120.0\n",
      "Epoch 88 loss:  1151110780928.0\n",
      "Epoch 89 loss:  1164325420032.0\n",
      "Epoch 90 loss:  1168036747264.0\n",
      "Epoch 91 loss:  1153616857088.0\n",
      "Epoch 92 loss:  1165335992320.0\n",
      "Epoch 93 loss:  1184917832704.0\n",
      "Epoch 94 loss:  1173129650176.0\n",
      "Epoch 95 loss:  1180936896512.0\n",
      "Epoch 96 loss:  1157329575936.0\n",
      "Epoch 97 loss:  1154067343360.0\n",
      "Epoch 98 loss:  1173150808064.0\n",
      "Epoch 99 loss:  1156314365952.0\n",
      "Epoch 100 loss:  1256163321856.0\n",
      "Epoch 101 loss:  1266055561216.0\n",
      "Epoch 102 loss:  1180940351488.0\n",
      "Epoch 103 loss:  1155765954560.0\n",
      "Epoch 104 loss:  1162790885376.0\n",
      "Epoch 105 loss:  1167499900928.0\n",
      "Epoch 106 loss:  1167166806016.0\n",
      "Epoch 107 loss:  1157215148032.0\n",
      "Epoch 108 loss:  1126995355648.0\n",
      "Epoch 109 loss:  1170293004288.0\n",
      "Epoch 110 loss:  1195391932416.0\n",
      "Epoch 111 loss:  1198659940352.0\n",
      "Epoch 112 loss:  1133054013440.0\n",
      "Epoch 113 loss:  1158339192832.0\n",
      "Epoch 114 loss:  1192060041216.0\n",
      "Epoch 115 loss:  1171575877632.0\n",
      "Epoch 116 loss:  1242497916928.0\n",
      "Epoch 117 loss:  1146002294784.0\n",
      "Epoch 118 loss:  1154299344896.0\n",
      "Epoch 119 loss:  1131552321536.0\n",
      "Epoch 120 loss:  1147607678976.0\n",
      "Epoch 121 loss:  1173477416960.0\n",
      "Epoch 122 loss:  1110737162240.0\n",
      "Epoch 123 loss:  1169959557120.0\n",
      "Epoch 124 loss:  1152161396736.0\n",
      "Epoch 125 loss:  1151782348800.0\n",
      "Epoch 126 loss:  1159957094400.0\n",
      "Epoch 127 loss:  1153407926272.0\n",
      "Epoch 128 loss:  1148612655104.0\n",
      "Epoch 129 loss:  1174678310912.0\n",
      "Epoch 130 loss:  1142679367680.0\n",
      "Epoch 131 loss:  1146953313280.0\n",
      "Epoch 132 loss:  1150956800000.0\n",
      "Epoch 133 loss:  1142386139136.0\n",
      "Epoch 134 loss:  1162184861696.0\n",
      "Epoch 135 loss:  1183872530432.0\n",
      "Epoch 136 loss:  1161314678784.0\n",
      "Epoch 137 loss:  1129255671808.0\n",
      "Epoch 138 loss:  1219828133888.0\n",
      "Epoch 139 loss:  1183722790912.0\n",
      "Epoch 140 loss:  1163061997568.0\n",
      "Epoch 141 loss:  1191146469376.0\n",
      "Epoch 142 loss:  1138684536832.0\n",
      "Epoch 143 loss:  1126843729920.0\n",
      "Epoch 144 loss:  1150890016768.0\n",
      "Epoch 145 loss:  1149903788032.0\n",
      "Epoch 146 loss:  1174107572224.0\n",
      "Epoch 147 loss:  1143094943744.0\n",
      "Epoch 148 loss:  1172046135296.0\n",
      "Epoch 149 loss:  1135092365312.0\n",
      "Epoch 150 loss:  1138261977088.0\n",
      "Epoch 151 loss:  1101355468800.0\n",
      "Epoch 152 loss:  1143557419008.0\n",
      "Epoch 153 loss:  1175862048768.0\n",
      "Epoch 154 loss:  1257791475712.0\n",
      "Epoch 155 loss:  1212493178880.0\n",
      "Epoch 156 loss:  1140455073792.0\n",
      "Epoch 157 loss:  1143372939264.0\n",
      "Epoch 158 loss:  1140117245952.0\n",
      "Epoch 159 loss:  1181721292800.0\n",
      "Epoch 160 loss:  1201152854016.0\n",
      "Epoch 161 loss:  1171232702464.0\n",
      "Epoch 162 loss:  1179121229824.0\n",
      "Epoch 163 loss:  1189678817280.0\n",
      "Epoch 164 loss:  1135651940352.0\n",
      "Epoch 165 loss:  1131544336384.0\n",
      "Epoch 166 loss:  1165412186112.0\n",
      "Epoch 167 loss:  1158671073280.0\n",
      "Epoch 168 loss:  1188875702272.0\n",
      "Epoch 169 loss:  1127905097728.0\n",
      "Epoch 170 loss:  1187356895232.0\n",
      "Epoch 171 loss:  1139382218752.0\n",
      "Epoch 172 loss:  1129744592896.0\n",
      "Epoch 173 loss:  1176248131584.0\n",
      "Epoch 174 loss:  1178122139648.0\n",
      "Epoch 175 loss:  1202596521984.0\n",
      "Epoch 176 loss:  1271570833408.0\n",
      "Epoch 177 loss:  1229789306880.0\n",
      "Epoch 178 loss:  1117714323456.0\n",
      "Epoch 179 loss:  1164817498112.0\n",
      "Epoch 180 loss:  1203291656192.0\n",
      "Epoch 181 loss:  1139014395904.0\n",
      "Epoch 182 loss:  1145638928384.0\n",
      "Epoch 183 loss:  1134400694272.0\n",
      "Epoch 184 loss:  1182637393920.0\n",
      "Epoch 185 loss:  1429625311232.0\n",
      "Epoch 186 loss:  1260342027264.0\n",
      "Epoch 187 loss:  1359650396160.0\n",
      "Epoch 188 loss:  1162532605952.0\n",
      "Epoch 189 loss:  1123372019712.0\n",
      "Epoch 190 loss:  1150898059264.0\n",
      "Epoch 191 loss:  1136636041216.0\n",
      "Epoch 192 loss:  1110666858496.0\n",
      "Epoch 193 loss:  1166330294272.0\n",
      "Epoch 194 loss:  1111036053504.0\n",
      "Epoch 195 loss:  1147076769792.0\n",
      "Epoch 196 loss:  1083361169408.0\n",
      "Epoch 197 loss:  1104394270720.0\n",
      "Epoch 198 loss:  1138836969472.0\n",
      "Epoch 199 loss:  990625503232.0\n",
      "Epoch 200 loss:  1142147962880.0\n"
     ]
    }
   ],
   "source": [
    "from sklearn.utils import shuffle\n",
    "from torch.autograd import Variable\n",
    "running_loss = 0.0\n",
    "for epoch in range(num_epochs):\n",
    "    #Shuffle just mixes up the dataset between epocs\n",
    "    X_train, y_train = shuffle(X_train, y_train)\n",
    "    # Mini batch learning\n",
    "    for i in range(batch_no):\n",
    "        start = i * batch_size\n",
    "        end = start + batch_size\n",
    "        inputs = Variable(torch.FloatTensor(X_train[start:end]))\n",
    "        labels = Variable(torch.FloatTensor(y_train[start:end]))\n",
    "        # zero the parameter gradients\n",
    "        optimizer.zero_grad()\n",
    "\n",
    "        # forward + backward + optimize\n",
    "        outputs = net(inputs)\n",
    "        #print(\"outputs\",outputs)\n",
    "        #print(\"outputs\",outputs,outputs.shape,\"labels\",labels, labels.shape)\n",
    "        loss = criterion(outputs, torch.unsqueeze(labels,dim=1))\n",
    "        loss.backward()\n",
    "        optimizer.step()\n",
    "\n",
    "        # print statistics\n",
    "        running_loss += loss.item()\n",
    "        \n",
    "    print('Epoch {}'.format(epoch+1), \"loss: \",running_loss)\n",
    "    running_loss = 0.0"
   ]
  },
  {
   "cell_type": "code",
   "execution_count": 67,
   "metadata": {},
   "outputs": [
    {
     "name": "stdout",
     "output_type": "stream",
     "text": [
      "1022 1022\n"
     ]
    },
    {
     "data": {
      "text/plain": [
       "0.7696913734845958"
      ]
     },
     "execution_count": 67,
     "metadata": {},
     "output_type": "execute_result"
    }
   ],
   "source": [
    "import pandas as pd\n",
    "from sklearn.metrics import r2_score\n",
    "\n",
    "X = Variable(torch.FloatTensor(X_train)) \n",
    "result = net(X)\n",
    "pred=result.data[:,0].numpy()\n",
    "print(len(pred),len(y_train))\n",
    "r2_score(pred,y_train)"
   ]
  },
  {
   "cell_type": "code",
   "execution_count": 68,
   "metadata": {},
   "outputs": [],
   "source": [
    "import pandas as pd\n",
    "from sklearn.metrics import r2_score\n",
    "#This is a little bit tricky to get the resulting prediction.  \n",
    "def calculate_r2(x,y=[]):\n",
    "    \"\"\"\n",
    "    This function will return the r2 if passed x and y or return predictions if just passed x. \n",
    "    \"\"\"\n",
    "    # Evaluate the model with the test set. \n",
    "    X = Variable(torch.FloatTensor(x))  \n",
    "    result = net(X) #This outputs the value for regression\n",
    "    result=result.data[:,0].numpy()\n",
    "  \n",
    "    if len(y) != 0:\n",
    "        r2=r2_score(result, y)\n",
    "        print(\"R-Squared\", r2)\n",
    "        #print('Accuracy {:.2f}'.format(num_right / len(y)), \"for a total of \", len(y), \"records\")\n",
    "        return pd.DataFrame(data= {'actual': y, 'predicted': result})\n",
    "    else:\n",
    "        print(\"returning predictions\")\n",
    "        return result\n"
   ]
  },
  {
   "cell_type": "code",
   "execution_count": 69,
   "metadata": {},
   "outputs": [
    {
     "name": "stdout",
     "output_type": "stream",
     "text": [
      "R-Squared 0.7696913734845958\n",
      "R-Squared 0.7140118118930414\n"
     ]
    }
   ],
   "source": [
    "result1=calculate_r2(X_train,y_train)\n",
    "result2=calculate_r2(X_test,y_test)"
   ]
  },
  {
   "cell_type": "code",
   "execution_count": null,
   "metadata": {},
   "outputs": [],
   "source": []
  },
  {
   "cell_type": "code",
   "execution_count": null,
   "metadata": {},
   "outputs": [],
   "source": []
  }
 ],
 "metadata": {
  "kernelspec": {
   "display_name": "Python 3",
   "language": "python",
   "name": "python3"
  },
  "language_info": {
   "codemirror_mode": {
    "name": "ipython",
    "version": 3
   },
   "file_extension": ".py",
   "mimetype": "text/x-python",
   "name": "python",
   "nbconvert_exporter": "python",
   "pygments_lexer": "ipython3",
   "version": "3.6.5"
  }
 },
 "nbformat": 4,
 "nbformat_minor": 2
}
